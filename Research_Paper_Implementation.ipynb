{
  "nbformat": 4,
  "nbformat_minor": 0,
  "metadata": {
    "colab": {
      "provenance": []
    },
    "kernelspec": {
      "name": "python3",
      "display_name": "Python 3"
    },
    "language_info": {
      "name": "python"
    }
  },
  "cells": [
    {
      "cell_type": "code",
      "execution_count": null,
      "metadata": {
        "id": "MgXmg1QHjr6T"
      },
      "outputs": [],
      "source": [
        "import numpy as np\n",
        "import pandas as pd\n",
        "import keras\n",
        "import matplotlib.pyplot as plt\n",
        "\n",
        "from skimage.feature import hog\n",
        "from sklearn.preprocessing import MinMaxScaler\n",
        "\n",
        "from sklearn.svm import SVC\n",
        "from sklearn.ensemble import RandomForestClassifier\n",
        "from sklearn.tree import DecisionTreeClassifier\n",
        "from keras import layers, models\n",
        "\n",
        "from sklearn.metrics import accuracy_score, f1_score, precision_score , recall_score\n",
        "from tabulate import tabulate"
      ]
    },
    {
      "cell_type": "code",
      "source": [
        "from keras.datasets import mnist\n",
        "(X_train , y_train) , (X_test , y_test) = mnist.load_data()\n",
        "X_train\n",
        "y_train\n"
      ],
      "metadata": {
        "colab": {
          "base_uri": "https://localhost:8080/"
        },
        "id": "wfndNVh6mvNW",
        "outputId": "457966f3-f3c0-46a3-a1c8-777aaa946da0"
      },
      "execution_count": null,
      "outputs": [
        {
          "output_type": "execute_result",
          "data": {
            "text/plain": [
              "array([5, 0, 4, ..., 5, 6, 8], dtype=uint8)"
            ]
          },
          "metadata": {},
          "execution_count": 9
        }
      ]
    },
    {
      "cell_type": "code",
      "source": [
        "len(X_train)\n",
        "len(X_test)\n",
        "X_train.shape"
      ],
      "metadata": {
        "colab": {
          "base_uri": "https://localhost:8080/"
        },
        "id": "RK7h_vkem2eo",
        "outputId": "d82d2920-bc1e-4869-9134-e75a6b50c896"
      },
      "execution_count": null,
      "outputs": [
        {
          "output_type": "execute_result",
          "data": {
            "text/plain": [
              "(60000, 28, 28)"
            ]
          },
          "metadata": {},
          "execution_count": 10
        }
      ]
    },
    {
      "cell_type": "code",
      "source": [
        "# Function to extract raw pixel features and scale them\n",
        "def extract_raw_pixel_features(data):\n",
        "    # Reshape the data if it's in image format (3D array)\n",
        "    if len(data.shape) > 2:\n",
        "        # Flatten each image into a 1D array\n",
        "        data = data.reshape(data.shape[0], -1)\n",
        "\n",
        "    # Scale the pixel values to range [0, 1]\n",
        "    scaler = MinMaxScaler()\n",
        "    scaled_data = scaler.fit_transform(data)\n",
        "    return scaled_data\n",
        "\n",
        "\n",
        "# Extract raw pixel features and scale for both training and testing data\n",
        "X_train_raw_scaled = extract_raw_pixel_features(X_train)\n",
        "X_test_raw_scaled = extract_raw_pixel_features(X_test)\n",
        "\n",
        "X_test_raw_scaled"
      ],
      "metadata": {
        "colab": {
          "base_uri": "https://localhost:8080/"
        },
        "id": "LZ-lbgYBm4Er",
        "outputId": "9d9f21db-fcd4-4263-efcc-d6c1d7a5f554"
      },
      "execution_count": null,
      "outputs": [
        {
          "output_type": "execute_result",
          "data": {
            "text/plain": [
              "array([[0., 0., 0., ..., 0., 0., 0.],\n",
              "       [0., 0., 0., ..., 0., 0., 0.],\n",
              "       [0., 0., 0., ..., 0., 0., 0.],\n",
              "       ...,\n",
              "       [0., 0., 0., ..., 0., 0., 0.],\n",
              "       [0., 0., 0., ..., 0., 0., 0.],\n",
              "       [0., 0., 0., ..., 0., 0., 0.]])"
            ]
          },
          "metadata": {},
          "execution_count": 14
        }
      ]
    },
    {
      "cell_type": "code",
      "source": [
        "# Function to extract HOG features\n",
        "def extract_hog_features(data):\n",
        "    features = []\n",
        "    for img in data:\n",
        "        fd, hog_image = hog(img.reshape((28, 28)), orientations=9, pixels_per_cell=(8, 8),\n",
        "                            cells_per_block=(2, 2), visualize=True, multichannel=False)\n",
        "        features.append(fd)\n",
        "    return np.array(features)\n",
        "\n",
        "\n",
        "# Extract HOG features for both training and testing data\n",
        "X_train_hog = extract_hog_features(X_train)\n",
        "X_test_hog = extract_hog_features(X_test)\n",
        "\n",
        "X_test_hog"
      ],
      "metadata": {
        "colab": {
          "base_uri": "https://localhost:8080/"
        },
        "id": "pUmmz1kunZcX",
        "outputId": "344fceb8-61dd-41a7-e2ab-df96bf3dd71c"
      },
      "execution_count": null,
      "outputs": [
        {
          "output_type": "stream",
          "name": "stderr",
          "text": [
            "<ipython-input-15-94415551d534>:5: FutureWarning: `multichannel` is a deprecated argument name for `hog`. It will be removed in version 1.0. Please use `channel_axis` instead.\n",
            "  fd, hog_image = hog(img.reshape((28, 28)), orientations=9, pixels_per_cell=(8, 8),\n"
          ]
        },
        {
          "output_type": "execute_result",
          "data": {
            "text/plain": [
              "array([[0.04600394, 0.        , 0.15826409, ..., 0.        , 0.        ,\n",
              "        0.        ],\n",
              "       [0.16635561, 0.        , 0.        , ..., 0.        , 0.        ,\n",
              "        0.        ],\n",
              "       [0.        , 0.        , 0.        , ..., 0.        , 0.        ,\n",
              "        0.        ],\n",
              "       ...,\n",
              "       [0.        , 0.        , 0.        , ..., 0.        , 0.        ,\n",
              "        0.        ],\n",
              "       [0.        , 0.        , 0.        , ..., 0.        , 0.09783391,\n",
              "        0.04775092],\n",
              "       [0.        , 0.        , 0.        , ..., 0.01602295, 0.        ,\n",
              "        0.        ]])"
            ]
          },
          "metadata": {},
          "execution_count": 15
        }
      ]
    },
    {
      "cell_type": "code",
      "source": [
        "# Reshape data for CNN\n",
        "X_train_cnn = X_train.reshape(-1, 28, 28, 1)\n",
        "X_test_cnn = X_test.reshape(-1, 28, 28, 1)"
      ],
      "metadata": {
        "id": "NBQLiEzKoLHg"
      },
      "execution_count": null,
      "outputs": []
    },
    {
      "cell_type": "code",
      "source": [
        "# Define models for comparison\n",
        "models = {\n",
        "    'SVM': SVC(),\n",
        "    'Decision Tree': DecisionTreeClassifier(max_depth=20, min_samples_split=10, min_samples_leaf=5),\n",
        "    'Random Forest': RandomForestClassifier(),\n",
        "    'CNN': models.Sequential([\n",
        "                layers.Conv2D(32, (3, 3), activation='relu', input_shape=(28, 28, 1)),\n",
        "                layers.MaxPooling2D((2, 2)),\n",
        "                layers.Conv2D(64, (3, 3), activation='relu'),\n",
        "                layers.MaxPooling2D((2, 2)),\n",
        "                layers.Conv2D(64, (3, 3), activation='relu'),\n",
        "                layers.Flatten(),\n",
        "                layers.Dense(64, activation='relu'),\n",
        "                layers.Dense(10, activation='softmax')\n",
        "            ])\n",
        "}"
      ],
      "metadata": {
        "id": "tXsYQNIToQAJ"
      },
      "execution_count": null,
      "outputs": []
    },
    {
      "cell_type": "code",
      "source": [
        "# Results storage\n",
        "results = {}"
      ],
      "metadata": {
        "id": "ksRTBL1ioQt8"
      },
      "execution_count": null,
      "outputs": []
    },
    {
      "cell_type": "code",
      "source": [
        "# Train and evaluate models with raw pixel features\n",
        "print(\"\\nTraining models with Raw Pixel Features:\")\n",
        "for model_name, model in models.items():\n",
        "    if model_name == 'CNN':\n",
        "        # Train CNN model\n",
        "        print(f\"Training {model_name}...\")\n",
        "        model.compile(optimizer='adam',\n",
        "                      loss='sparse_categorical_crossentropy',\n",
        "                      metrics=['accuracy'])\n",
        "        model.fit(X_train_cnn, y_train, epochs=5, batch_size=64, validation_data=(X_test_cnn, y_test))\n",
        "        y_pred = np.argmax(model.predict(X_test_cnn), axis=-1)\n",
        "    else:\n",
        "        print(f\"Training {model_name}...\")\n",
        "        model.fit(X_train_raw_scaled, y_train)\n",
        "        y_pred = model.predict(X_test_raw_scaled)\n",
        "\n",
        "    # Evaluate model\n",
        "    accuracy = accuracy_score(y_test, y_pred)\n",
        "    f1 = f1_score(y_test, y_pred, average='weighted')\n",
        "    precision = precision_score(y_test, y_pred, average='weighted')\n",
        "    recall = recall_score(y_test, y_pred, average='weighted')\n",
        "\n",
        "    results[model_name] = {\n",
        "        'accuracy': accuracy,\n",
        "        'f1_score': f1,\n",
        "        'precision': precision,\n",
        "        'recall': recall\n",
        "    }"
      ],
      "metadata": {
        "colab": {
          "base_uri": "https://localhost:8080/"
        },
        "id": "p1bHMqvboTql",
        "outputId": "6dd2e5fc-859a-47d9-be44-09faf9c6ca5e"
      },
      "execution_count": null,
      "outputs": [
        {
          "output_type": "stream",
          "name": "stdout",
          "text": [
            "\n",
            "Training models with Raw Pixel Features:\n",
            "Training SVM...\n",
            "Training Decision Tree...\n",
            "Training Random Forest...\n",
            "Training CNN...\n",
            "Epoch 1/5\n",
            "938/938 [==============================] - 48s 49ms/step - loss: 0.3232 - accuracy: 0.9334 - val_loss: 0.0671 - val_accuracy: 0.9772\n",
            "Epoch 2/5\n",
            "938/938 [==============================] - 46s 49ms/step - loss: 0.0631 - accuracy: 0.9806 - val_loss: 0.0694 - val_accuracy: 0.9805\n",
            "Epoch 3/5\n",
            "938/938 [==============================] - 49s 52ms/step - loss: 0.0466 - accuracy: 0.9854 - val_loss: 0.0483 - val_accuracy: 0.9840\n",
            "Epoch 4/5\n",
            "938/938 [==============================] - 46s 49ms/step - loss: 0.0402 - accuracy: 0.9878 - val_loss: 0.0479 - val_accuracy: 0.9844\n",
            "Epoch 5/5\n",
            "938/938 [==============================] - 49s 52ms/step - loss: 0.0329 - accuracy: 0.9891 - val_loss: 0.0432 - val_accuracy: 0.9872\n",
            "313/313 [==============================] - 2s 8ms/step\n"
          ]
        }
      ]
    },
    {
      "cell_type": "code",
      "source": [
        "# Train and evaluate models with HOG features\n",
        "print(\"\\nTraining models with HOG Features:\")\n",
        "for model_name, model in models.items():\n",
        "    if model_name == 'CNN':\n",
        "        # Train CNN model\n",
        "        print(f\"Training {model_name}...\")\n",
        "        model.compile(optimizer='adam',\n",
        "                      loss='sparse_categorical_crossentropy',\n",
        "                      metrics=['accuracy'])\n",
        "        model.fit(X_train_cnn, y_train, epochs=5, batch_size=64, validation_data=(X_test_cnn, y_test))\n",
        "        y_pred = np.argmax(model.predict(X_test_cnn), axis=-1)\n",
        "    else:\n",
        "        print(f\"Training {model_name}...\")\n",
        "        model.fit(X_train_hog, y_train)\n",
        "        y_pred = model.predict(X_test_hog)\n",
        "\n",
        "    # Evaluate model\n",
        "    accuracy = accuracy_score(y_test, y_pred)\n",
        "    f1 = f1_score(y_test, y_pred, average='weighted')\n",
        "    precision = precision_score(y_test, y_pred, average='weighted')\n",
        "    recall = recall_score(y_test, y_pred, average='weighted')\n",
        "\n",
        "    results[model_name + '_HOG'] = {\n",
        "        'accuracy': accuracy,\n",
        "        'f1_score': f1,\n",
        "        'precision': precision,\n",
        "        'recall': recall\n",
        "    }"
      ],
      "metadata": {
        "colab": {
          "base_uri": "https://localhost:8080/"
        },
        "id": "xl1McKfzoaI2",
        "outputId": "27e5765e-b6ba-4280-f4c1-8248f786afbb"
      },
      "execution_count": null,
      "outputs": [
        {
          "output_type": "stream",
          "name": "stdout",
          "text": [
            "\n",
            "Training models with HOG Features:\n",
            "Training SVM...\n",
            "Training Decision Tree...\n",
            "Training Random Forest...\n",
            "Training CNN...\n",
            "Epoch 1/5\n",
            "938/938 [==============================] - 48s 50ms/step - loss: 0.0381 - accuracy: 0.9878 - val_loss: 0.0495 - val_accuracy: 0.9849\n",
            "Epoch 2/5\n",
            "938/938 [==============================] - 46s 49ms/step - loss: 0.0290 - accuracy: 0.9908 - val_loss: 0.0454 - val_accuracy: 0.9863\n",
            "Epoch 3/5\n",
            "938/938 [==============================] - 45s 48ms/step - loss: 0.0249 - accuracy: 0.9923 - val_loss: 0.0436 - val_accuracy: 0.9877\n",
            "Epoch 4/5\n",
            "938/938 [==============================] - 48s 51ms/step - loss: 0.0216 - accuracy: 0.9932 - val_loss: 0.0516 - val_accuracy: 0.9864\n",
            "Epoch 5/5\n",
            "938/938 [==============================] - 46s 49ms/step - loss: 0.0191 - accuracy: 0.9939 - val_loss: 0.0729 - val_accuracy: 0.9825\n",
            "313/313 [==============================] - 3s 8ms/step\n"
          ]
        }
      ]
    },
    {
      "cell_type": "code",
      "source": [
        "# Display results in a table\n",
        "print(\"\\nResults:\")\n",
        "table = []\n",
        "for model_name, metrics in results.items():\n",
        "    table.append([model_name, metrics['accuracy'], metrics['f1_score'], metrics['precision'], metrics['recall']])\n",
        "\n",
        "print(tabulate(table, headers=['Model', 'Accuracy', 'F1 Score', 'Precision', 'Recall'], tablefmt='grid'))"
      ],
      "metadata": {
        "colab": {
          "base_uri": "https://localhost:8080/"
        },
        "id": "7TXqYR0toeTd",
        "outputId": "26cf85bc-c88e-4231-c767-4e7651afcc98"
      },
      "execution_count": null,
      "outputs": [
        {
          "output_type": "stream",
          "name": "stdout",
          "text": [
            "\n",
            "Results:\n",
            "+-------------------+------------+------------+-------------+----------+\n",
            "| Model             |   Accuracy |   F1 Score |   Precision |   Recall |\n",
            "+===================+============+============+=============+==========+\n",
            "| SVM               |     0.9793 |   0.979286 |    0.979302 |   0.9793 |\n",
            "+-------------------+------------+------------+-------------+----------+\n",
            "| Decision Tree     |     0.8798 |   0.879668 |    0.879819 |   0.8798 |\n",
            "+-------------------+------------+------------+-------------+----------+\n",
            "| Random Forest     |     0.9702 |   0.970182 |    0.970193 |   0.9702 |\n",
            "+-------------------+------------+------------+-------------+----------+\n",
            "| CNN               |     0.9872 |   0.987197 |    0.987247 |   0.9872 |\n",
            "+-------------------+------------+------------+-------------+----------+\n",
            "| SVM_HOG           |     0.9724 |   0.972379 |    0.972423 |   0.9724 |\n",
            "+-------------------+------------+------------+-------------+----------+\n",
            "| Decision Tree_HOG |     0.8399 |   0.839584 |    0.839837 |   0.8399 |\n",
            "+-------------------+------------+------------+-------------+----------+\n",
            "| Random Forest_HOG |     0.9519 |   0.951814 |    0.951952 |   0.9519 |\n",
            "+-------------------+------------+------------+-------------+----------+\n",
            "| CNN_HOG           |     0.9825 |   0.9825   |    0.982688 |   0.9825 |\n",
            "+-------------------+------------+------------+-------------+----------+\n"
          ]
        }
      ]
    }
  ]
}